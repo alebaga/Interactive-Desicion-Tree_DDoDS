{
 "cells": [
  {
   "cell_type": "markdown",
   "id": "d7d81eee",
   "metadata": {},
   "source": [
    "# Daily Dose of Data Science\n",
    "\n",
    "This notebook accompanies the code for interactively visualising a decision tree.\n",
    "\n",
    "Author: Avi Chawla\n",
    "\n",
    "Post published on [Substack](https://avichawla.substack.com)."
   ]
  },
  {
   "cell_type": "markdown",
   "id": "41fa243f",
   "metadata": {},
   "source": [
    "## Import"
   ]
  },
  {
   "cell_type": "code",
   "execution_count": 1,
   "id": "ee144911",
   "metadata": {
    "ExecuteTime": {
     "end_time": "2023-10-20T17:14:31.619476Z",
     "start_time": "2023-10-20T17:14:30.896531Z"
    }
   },
   "outputs": [],
   "source": [
    "import pandas as pd\n",
    "import numpy as np\n",
    "import interactive_decision_tree as idt ## module in the repository\n",
    "\n",
    "from sklearn.datasets import load_iris\n",
    "from sklearn.tree import DecisionTreeClassifier"
   ]
  },
  {
   "cell_type": "markdown",
   "id": "1f2458e5",
   "metadata": {},
   "source": [
    "## Iris Dataset"
   ]
  },
  {
   "cell_type": "code",
   "execution_count": 2,
   "id": "89c3c499",
   "metadata": {
    "ExecuteTime": {
     "end_time": "2023-10-20T17:14:32.488152Z",
     "start_time": "2023-10-20T17:14:32.451460Z"
    }
   },
   "outputs": [
    {
     "data": {
      "text/html": [
       "<div><div id=3b8e70ab-1862-49ff-9ce0-9afda5d1b1cf style=\"display:none; background-color:#9D6CFF; color:white; width:200px; height:30px; padding-left:5px; border-radius:4px; flex-direction:row; justify-content:space-around; align-items:center;\" onmouseover=\"this.style.backgroundColor='#BA9BF8'\" onmouseout=\"this.style.backgroundColor='#9D6CFF'\" onclick=\"window.commands?.execute('create-mitosheet-from-dataframe-output');\">See Full Dataframe in Mito</div> <script> if (window.commands?.hasCommand('create-mitosheet-from-dataframe-output')) document.getElementById('3b8e70ab-1862-49ff-9ce0-9afda5d1b1cf').style.display = 'flex' </script> <table border=\"1\" class=\"dataframe\">\n",
       "  <thead>\n",
       "    <tr style=\"text-align: right;\">\n",
       "      <th></th>\n",
       "      <th>sepal length (cm)</th>\n",
       "      <th>sepal width (cm)</th>\n",
       "      <th>petal length (cm)</th>\n",
       "      <th>petal width (cm)</th>\n",
       "    </tr>\n",
       "  </thead>\n",
       "  <tbody>\n",
       "    <tr>\n",
       "      <th>0</th>\n",
       "      <td>5.1</td>\n",
       "      <td>3.5</td>\n",
       "      <td>1.4</td>\n",
       "      <td>0.2</td>\n",
       "    </tr>\n",
       "    <tr>\n",
       "      <th>1</th>\n",
       "      <td>4.9</td>\n",
       "      <td>3.0</td>\n",
       "      <td>1.4</td>\n",
       "      <td>0.2</td>\n",
       "    </tr>\n",
       "    <tr>\n",
       "      <th>2</th>\n",
       "      <td>4.7</td>\n",
       "      <td>3.2</td>\n",
       "      <td>1.3</td>\n",
       "      <td>0.2</td>\n",
       "    </tr>\n",
       "    <tr>\n",
       "      <th>3</th>\n",
       "      <td>4.6</td>\n",
       "      <td>3.1</td>\n",
       "      <td>1.5</td>\n",
       "      <td>0.2</td>\n",
       "    </tr>\n",
       "    <tr>\n",
       "      <th>4</th>\n",
       "      <td>5.0</td>\n",
       "      <td>3.6</td>\n",
       "      <td>1.4</td>\n",
       "      <td>0.2</td>\n",
       "    </tr>\n",
       "  </tbody>\n",
       "</table></div>"
      ],
      "text/plain": [
       "   sepal length (cm)  sepal width (cm)  petal length (cm)  petal width (cm)\n",
       "0                5.1               3.5                1.4               0.2\n",
       "1                4.9               3.0                1.4               0.2\n",
       "2                4.7               3.2                1.3               0.2\n",
       "3                4.6               3.1                1.5               0.2\n",
       "4                5.0               3.6                1.4               0.2"
      ]
     },
     "execution_count": 2,
     "metadata": {},
     "output_type": "execute_result"
    }
   ],
   "source": [
    "iris = load_iris()\n",
    "x_df = pd.DataFrame(iris.data, columns=iris.feature_names)\n",
    "x_df.head()"
   ]
  },
  {
   "cell_type": "markdown",
   "id": "3786506c",
   "metadata": {},
   "source": [
    "## Train Model"
   ]
  },
  {
   "cell_type": "code",
   "execution_count": 3,
   "id": "e94198a8",
   "metadata": {
    "ExecuteTime": {
     "end_time": "2023-10-20T17:14:33.478385Z",
     "start_time": "2023-10-20T17:14:33.460095Z"
    }
   },
   "outputs": [],
   "source": [
    "clf = DecisionTreeClassifier()\n",
    "clf = clf.fit(iris.data, iris.target)"
   ]
  },
  {
   "cell_type": "code",
   "execution_count": 6,
   "id": "45e772af",
   "metadata": {
    "ExecuteTime": {
     "end_time": "2023-10-20T17:15:55.245838Z",
     "start_time": "2023-10-20T17:15:55.205014Z"
    }
   },
   "outputs": [
    {
     "name": "stdout",
     "output_type": "stream",
     "text": [
      "Saved to ./iris_tree.html\n"
     ]
    }
   ],
   "source": [
    "idt.create_tree(tree_model = clf, \n",
    "                X = x_df, \n",
    "                target_names=iris.target_names, \n",
    "                save_path = \"./iris_tree.html\")"
   ]
  },
  {
   "cell_type": "code",
   "execution_count": 7,
   "id": "1b63fad5",
   "metadata": {
    "ExecuteTime": {
     "end_time": "2023-10-20T17:15:56.066680Z",
     "start_time": "2023-10-20T17:15:56.022835Z"
    }
   },
   "outputs": [
    {
     "name": "stdout",
     "output_type": "stream",
     "text": [
      "Saved to ./iris_sankey.html\n"
     ]
    }
   ],
   "source": [
    "idt.create_sankey(tree_model = clf, \n",
    "                  X = x_df, \n",
    "                  target_names=iris.target_names, \n",
    "                  save_path = \"./iris_sankey.html\")"
   ]
  },
  {
   "cell_type": "markdown",
   "id": "f52a91dd",
   "metadata": {},
   "source": [
    "## Steps to create these interactive diagrams:\n",
    "\n",
    "1. Keep the interactive_decision_tree.py file in your current folder.\n",
    "2. Also keep the two template files in the current directory as well:\n",
    "\n",
    "   - tree_template.html and\n",
    "   - sankey_template.html\n",
    "   \n",
    "3. Before calling the two methods (create_tree and create_sankey), specify an appropriate location in save_path. \n",
    "4. Done!"
   ]
  },
  {
   "cell_type": "code",
   "execution_count": null,
   "id": "30d6108d",
   "metadata": {},
   "outputs": [],
   "source": []
  }
 ],
 "metadata": {
  "gist": {
   "data": {
    "description": "Desktop/Daily Dose of Data Science/Plotting/Plot-Interactive-Decision-Tree.ipynb",
    "public": false
   },
   "id": ""
  },
  "kernelspec": {
   "display_name": "Python 3 (ipykernel)",
   "language": "python",
   "name": "python3"
  },
  "language_info": {
   "codemirror_mode": {
    "name": "ipython",
    "version": 3
   },
   "file_extension": ".py",
   "mimetype": "text/x-python",
   "name": "python",
   "nbconvert_exporter": "python",
   "pygments_lexer": "ipython3",
   "version": "3.9.12"
  },
  "toc": {
   "base_numbering": 1,
   "nav_menu": {},
   "number_sections": true,
   "sideBar": true,
   "skip_h1_title": false,
   "title_cell": "Table of Contents",
   "title_sidebar": "Contents",
   "toc_cell": false,
   "toc_position": {},
   "toc_section_display": true,
   "toc_window_display": false
  }
 },
 "nbformat": 4,
 "nbformat_minor": 5
}
